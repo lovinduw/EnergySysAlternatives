{
 "cells": [
  {
   "cell_type": "markdown",
   "metadata": {},
   "source": [
    "# Workflow for a multi-regional energy system\n",
    "\n",
    "In this application of the ETHOS.FINE framework, a multi-regional energy system is modeled and optimized.\n",
    "\n",
    "All classes which are available to the user are utilized and examples of the selection of different parameters within these classes are given.\n",
    "\n",
    "The workflow is structures as follows:\n",
    "1. Required packages are imported and the input data path is set\n",
    "2. An energy system model instance is created\n",
    "3. Commodity sources are added to the energy system model\n",
    "4. Commodity conversion components are added to the energy system model\n",
    "5. Commodity storages are added to the energy system model\n",
    "6. Commodity transmission components are added to the energy system model\n",
    "7. Commodity sinks are added to the energy system model\n",
    "8. The energy system model is optimized\n",
    "9. Alternative solutions are obtained using MGA and results are saved in OutputData folder\n"
   ]
  },
  {
   "cell_type": "markdown",
   "metadata": {},
   "source": [
    "# 1. Import required packages and set input data path\n",
    "\n",
    "The ETHOS.FINE framework is imported which provides the required classes and functions for modeling the energy system."
   ]
  },
  {
   "cell_type": "code",
   "execution_count": null,
   "metadata": {},
   "outputs": [],
   "source": [
    "import fine as fn\n",
    "import matplotlib.pyplot as plt\n",
    "from getData import getData\n",
    "import pandas as pd\n",
    "import os\n",
    "\n",
    "cwd = os.getcwd()\n",
    "data = getData()\n",
    "\n",
    "%matplotlib inline\n",
    "%load_ext autoreload\n",
    "%autoreload 2"
   ]
  },
  {
   "cell_type": "markdown",
   "metadata": {},
   "source": [
    "# 2. Create an energy system model instance \n",
    "\n",
    "The structure of the energy system model is given by the considered locations, commodities, the number of time steps as well as the hours per time step.\n",
    "\n",
    "The commodities are specified by a unit (i.e. 'GW_electric', 'GW_H2lowerHeatingValue', 'Mio. t CO2/h') which can be given as an energy or mass unit per hour. Furthermore, the cost unit and length unit are specified."
   ]
  },
  {
   "cell_type": "code",
   "execution_count": 2,
   "metadata": {},
   "outputs": [],
   "source": [
    "locations = {\n",
    "    \"cluster_0\",\n",
    "    \"cluster_1\",\n",
    "    \"cluster_2\",\n",
    "    \"cluster_3\",\n",
    "    \"cluster_4\",\n",
    "    \"cluster_5\",\n",
    "    \"cluster_6\",\n",
    "    \"cluster_7\",\n",
    "}\n",
    "commodityUnitDict = {\n",
    "    \"electricity\": r\"GW$_{el}$\",\n",
    "    \"methane\": r\"GW$_{CH_{4},LHV}$\",\n",
    "    \"biogas\": r\"GW$_{biogas,LHV}$\",\n",
    "    \"CO2\": r\"Mio. t$_{CO_2}$/h\",\n",
    "    \"hydrogen\": r\"GW$_{H_{2},LHV}$\",\n",
    "}\n",
    "commodities = {\"electricity\", \"hydrogen\", \"methane\", \"biogas\", \"CO2\"}\n",
    "numberOfTimeSteps = 8760\n",
    "hoursPerTimeStep = 1"
   ]
  },
  {
   "cell_type": "code",
   "execution_count": 3,
   "metadata": {},
   "outputs": [],
   "source": [
    "esM = fn.EnergySystemModel(\n",
    "    locations=locations,\n",
    "    commodities=commodities,\n",
    "    numberOfTimeSteps=8760,\n",
    "    commodityUnitsDict=commodityUnitDict,\n",
    "    hoursPerTimeStep=1,\n",
    "    costUnit=\"1e9 Euro\",\n",
    "    lengthUnit=\"km\",\n",
    "    verboseLogLevel=0,\n",
    ")"
   ]
  },
  {
   "cell_type": "code",
   "execution_count": 4,
   "metadata": {},
   "outputs": [],
   "source": [
    "CO2_reductionTarget = 1"
   ]
  },
  {
   "cell_type": "markdown",
   "metadata": {},
   "source": [
    "# 3. Add commodity sources to the energy system model"
   ]
  },
  {
   "cell_type": "markdown",
   "metadata": {},
   "source": [
    "## 3.1. Electricity sources"
   ]
  },
  {
   "cell_type": "markdown",
   "metadata": {},
   "source": [
    "### Wind onshore"
   ]
  },
  {
   "cell_type": "code",
   "execution_count": 5,
   "metadata": {},
   "outputs": [],
   "source": [
    "esM.add(\n",
    "    fn.Source(\n",
    "        esM=esM,\n",
    "        name=\"Wind (onshore)\",\n",
    "        commodity=\"electricity\",\n",
    "        hasCapacityVariable=True,\n",
    "        operationRateMax=data[\"Wind (onshore), operationRateMax\"],\n",
    "        capacityMax=data[\"Wind (onshore), capacityMax\"],\n",
    "        investPerCapacity=1.1,\n",
    "        opexPerCapacity=1.1 * 0.02,\n",
    "        interestRate=0.08,\n",
    "        economicLifetime=20,\n",
    "    )\n",
    ")"
   ]
  },
  {
   "cell_type": "markdown",
   "metadata": {},
   "source": [
    "Full load hours:"
   ]
  },
  {
   "cell_type": "code",
   "execution_count": null,
   "metadata": {},
   "outputs": [],
   "source": [
    "data[\"Wind (onshore), operationRateMax\"].sum()"
   ]
  },
  {
   "cell_type": "markdown",
   "metadata": {},
   "source": [
    "### Wind offshore"
   ]
  },
  {
   "cell_type": "code",
   "execution_count": 7,
   "metadata": {},
   "outputs": [],
   "source": [
    "esM.add(\n",
    "    fn.Source(\n",
    "        esM=esM,\n",
    "        name=\"Wind (offshore)\",\n",
    "        commodity=\"electricity\",\n",
    "        hasCapacityVariable=True,\n",
    "        operationRateMax=data[\"Wind (offshore), operationRateMax\"],\n",
    "        capacityMax=data[\"Wind (offshore), capacityMax\"],\n",
    "        investPerCapacity=2.3,\n",
    "        opexPerCapacity=2.3 * 0.02,\n",
    "        interestRate=0.08,\n",
    "        economicLifetime=20,\n",
    "    )\n",
    ")"
   ]
  },
  {
   "cell_type": "markdown",
   "metadata": {},
   "source": [
    "Full load hours:"
   ]
  },
  {
   "cell_type": "code",
   "execution_count": null,
   "metadata": {},
   "outputs": [],
   "source": [
    "data[\"Wind (offshore), operationRateMax\"].sum()"
   ]
  },
  {
   "cell_type": "markdown",
   "metadata": {},
   "source": [
    "### PV"
   ]
  },
  {
   "cell_type": "code",
   "execution_count": 9,
   "metadata": {},
   "outputs": [],
   "source": [
    "esM.add(\n",
    "    fn.Source(\n",
    "        esM=esM,\n",
    "        name=\"PV\",\n",
    "        commodity=\"electricity\",\n",
    "        hasCapacityVariable=True,\n",
    "        operationRateMax=data[\"PV, operationRateMax\"],\n",
    "        capacityMax=data[\"PV, capacityMax\"],\n",
    "        investPerCapacity=0.65,\n",
    "        opexPerCapacity=0.65 * 0.02,\n",
    "        interestRate=0.08,\n",
    "        economicLifetime=25,\n",
    "    )\n",
    ")"
   ]
  },
  {
   "cell_type": "markdown",
   "metadata": {},
   "source": [
    "Full load hours:"
   ]
  },
  {
   "cell_type": "code",
   "execution_count": null,
   "metadata": {},
   "outputs": [],
   "source": [
    "data[\"PV, operationRateMax\"].sum()"
   ]
  },
  {
   "cell_type": "markdown",
   "metadata": {},
   "source": [
    "### Exisisting run-of-river hydroelectricity plants"
   ]
  },
  {
   "cell_type": "code",
   "execution_count": 11,
   "metadata": {},
   "outputs": [],
   "source": [
    "esM.add(\n",
    "    fn.Source(\n",
    "        esM=esM,\n",
    "        name=\"Existing run-of-river plants\",\n",
    "        commodity=\"electricity\",\n",
    "        hasCapacityVariable=True,\n",
    "        operationRateFix=data[\"Existing run-of-river plants, operationRateFix\"],\n",
    "        tsaWeight=0.01,\n",
    "        capacityFix=data[\"Existing run-of-river plants, capacityFix\"],\n",
    "        investPerCapacity=0,\n",
    "        opexPerCapacity=0.208,\n",
    "    )\n",
    ")"
   ]
  },
  {
   "cell_type": "markdown",
   "metadata": {},
   "source": [
    "## 3.2. Methane (natural gas and biogas)"
   ]
  },
  {
   "cell_type": "markdown",
   "metadata": {},
   "source": [
    "### Natural gas"
   ]
  },
  {
   "cell_type": "code",
   "execution_count": 12,
   "metadata": {},
   "outputs": [],
   "source": [
    "esM.add(\n",
    "    fn.Source(\n",
    "        esM=esM,\n",
    "        name=\"Natural gas purchase\",\n",
    "        commodity=\"methane\",\n",
    "        hasCapacityVariable=False,\n",
    "        commodityCost=0.0331 * 1e-3,\n",
    "    )\n",
    ")"
   ]
  },
  {
   "cell_type": "markdown",
   "metadata": {},
   "source": [
    "### Biogas"
   ]
  },
  {
   "cell_type": "code",
   "execution_count": 13,
   "metadata": {},
   "outputs": [],
   "source": [
    "esM.add(\n",
    "    fn.Source(\n",
    "        esM=esM,\n",
    "        name=\"Biogas purchase\",\n",
    "        commodity=\"biogas\",\n",
    "        operationRateMax=data[\"Biogas, operationRateMax\"],\n",
    "        hasCapacityVariable=False,\n",
    "        commodityCost=0.05409 * 1e-3,\n",
    "    )\n",
    ")"
   ]
  },
  {
   "cell_type": "markdown",
   "metadata": {},
   "source": [
    "# 4. Add conversion components to the energy system model"
   ]
  },
  {
   "cell_type": "markdown",
   "metadata": {},
   "source": [
    "### Combined cycle gas turbine plants"
   ]
  },
  {
   "cell_type": "code",
   "execution_count": 14,
   "metadata": {},
   "outputs": [],
   "source": [
    "esM.add(\n",
    "    fn.Conversion(\n",
    "        esM=esM,\n",
    "        name=\"CCGT plants (methane)\",\n",
    "        physicalUnit=r\"GW$_{el}$\",\n",
    "        commodityConversionFactors={\n",
    "            \"electricity\": 1,\n",
    "            \"methane\": -1 / 0.6,\n",
    "            \"CO2\": 201 * 1e-6 / 0.6,\n",
    "        },\n",
    "        hasCapacityVariable=True,\n",
    "        investPerCapacity=0.65,\n",
    "        opexPerCapacity=0.021,\n",
    "        interestRate=0.08,\n",
    "        economicLifetime=33,\n",
    "    )\n",
    ")"
   ]
  },
  {
   "cell_type": "markdown",
   "metadata": {},
   "source": [
    "### New combined cycle gas turbine plants for biogas"
   ]
  },
  {
   "cell_type": "code",
   "execution_count": 15,
   "metadata": {},
   "outputs": [],
   "source": [
    "esM.add(\n",
    "    fn.Conversion(\n",
    "        esM=esM,\n",
    "        name=\"New CCGT plants (biogas)\",\n",
    "        physicalUnit=r\"GW$_{el}$\",\n",
    "        commodityConversionFactors={\"electricity\": 1, \"biogas\": -1 / 0.63},\n",
    "        hasCapacityVariable=True,\n",
    "        investPerCapacity=0.7,\n",
    "        opexPerCapacity=0.021,\n",
    "        interestRate=0.08,\n",
    "        economicLifetime=33,\n",
    "    )\n",
    ")"
   ]
  },
  {
   "cell_type": "markdown",
   "metadata": {},
   "source": [
    "### New combined cycly gas turbines for hydrogen"
   ]
  },
  {
   "cell_type": "code",
   "execution_count": 16,
   "metadata": {},
   "outputs": [],
   "source": [
    "esM.add(\n",
    "    fn.Conversion(\n",
    "        esM=esM,\n",
    "        name=\"New CCGT plants (hydrogen)\",\n",
    "        physicalUnit=r\"GW$_{el}$\",\n",
    "        commodityConversionFactors={\"electricity\": 1, \"hydrogen\": -1 / 0.63},\n",
    "        hasCapacityVariable=True,\n",
    "        investPerCapacity=0.7,\n",
    "        opexPerCapacity=0.021,\n",
    "        interestRate=0.08,\n",
    "        economicLifetime=33,\n",
    "    )\n",
    ")"
   ]
  },
  {
   "cell_type": "markdown",
   "metadata": {},
   "source": [
    "### Electrolyzers"
   ]
  },
  {
   "cell_type": "code",
   "execution_count": 17,
   "metadata": {},
   "outputs": [],
   "source": [
    "esM.add(\n",
    "    fn.Conversion(\n",
    "        esM=esM,\n",
    "        name=\"Electrolyzer\",\n",
    "        physicalUnit=r\"GW$_{el}$\",\n",
    "        commodityConversionFactors={\"electricity\": -1, \"hydrogen\": 0.7},\n",
    "        hasCapacityVariable=True,\n",
    "        investPerCapacity=0.5,\n",
    "        opexPerCapacity=0.5 * 0.025,\n",
    "        interestRate=0.08,\n",
    "        economicLifetime=10,\n",
    "    )\n",
    ")"
   ]
  },
  {
   "cell_type": "markdown",
   "metadata": {},
   "source": [
    "### rSOC"
   ]
  },
  {
   "cell_type": "code",
   "execution_count": 18,
   "metadata": {},
   "outputs": [],
   "source": [
    "capexRSOC = 1.5\n",
    "\n",
    "esM.add(\n",
    "    fn.Conversion(\n",
    "        esM=esM,\n",
    "        name=\"rSOEC\",\n",
    "        physicalUnit=r\"GW$_{el}$\",\n",
    "        linkedConversionCapacityID=\"rSOC\",\n",
    "        commodityConversionFactors={\"electricity\": -1, \"hydrogen\": 0.6},\n",
    "        hasCapacityVariable=True,\n",
    "        investPerCapacity=capexRSOC / 2,\n",
    "        opexPerCapacity=capexRSOC * 0.02 / 2,\n",
    "        interestRate=0.08,\n",
    "        economicLifetime=10,\n",
    "    )\n",
    ")\n",
    "\n",
    "esM.add(\n",
    "    fn.Conversion(\n",
    "        esM=esM,\n",
    "        name=\"rSOFC\",\n",
    "        physicalUnit=r\"GW$_{el}$\",\n",
    "        linkedConversionCapacityID=\"rSOC\",\n",
    "        commodityConversionFactors={\"electricity\": 1, \"hydrogen\": -1 / 0.6},\n",
    "        hasCapacityVariable=True,\n",
    "        investPerCapacity=capexRSOC / 2,\n",
    "        opexPerCapacity=capexRSOC * 0.02 / 2,\n",
    "        interestRate=0.08,\n",
    "        economicLifetime=10,\n",
    "    )\n",
    ")"
   ]
  },
  {
   "cell_type": "markdown",
   "metadata": {},
   "source": [
    "# 5. Add commodity storages to the energy system model"
   ]
  },
  {
   "cell_type": "markdown",
   "metadata": {},
   "source": [
    "## 5.1. Electricity storage"
   ]
  },
  {
   "cell_type": "markdown",
   "metadata": {},
   "source": [
    "### Lithium ion batteries\n",
    "\n",
    "The self discharge of a lithium ion battery is here described as 3% per month. The self discharge per hours is obtained using the equation (1-$\\text{selfDischarge}_\\text{hour})^{30*24\\text{h}} = 1-\\text{selfDischarge}_\\text{month}$."
   ]
  },
  {
   "cell_type": "code",
   "execution_count": 19,
   "metadata": {},
   "outputs": [],
   "source": [
    "esM.add(\n",
    "    fn.Storage(\n",
    "        esM=esM,\n",
    "        name=\"Li-ion batteries\",\n",
    "        commodity=\"electricity\",\n",
    "        hasCapacityVariable=True,\n",
    "        chargeEfficiency=0.95,\n",
    "        cyclicLifetime=10000,\n",
    "        dischargeEfficiency=0.95,\n",
    "        selfDischarge=1 - (1 - 0.03) ** (1 / (30 * 24)),\n",
    "        chargeRate=1,\n",
    "        dischargeRate=1,\n",
    "        doPreciseTsaModeling=False,\n",
    "        investPerCapacity=0.151,\n",
    "        opexPerCapacity=0.002,\n",
    "        interestRate=0.08,\n",
    "        economicLifetime=22,\n",
    "    )\n",
    ")"
   ]
  },
  {
   "cell_type": "markdown",
   "metadata": {},
   "source": [
    "## 5.2. Hydrogen storage"
   ]
  },
  {
   "cell_type": "markdown",
   "metadata": {},
   "source": [
    "### Hydrogen filled salt caverns\n",
    "The maximum capacity is here obtained by: dividing the given capacity (which is given for methane) by the lower heating value of methane and then multiplying it with the lower heating value of hydrogen."
   ]
  },
  {
   "cell_type": "code",
   "execution_count": 20,
   "metadata": {},
   "outputs": [],
   "source": [
    "esM.add(\n",
    "    fn.Storage(\n",
    "        esM=esM,\n",
    "        name=\"Salt caverns (hydrogen)\",\n",
    "        commodity=\"hydrogen\",\n",
    "        hasCapacityVariable=True,\n",
    "        capacityVariableDomain=\"continuous\",\n",
    "        capacityPerPlantUnit=133,\n",
    "        chargeRate=1 / 470.37,\n",
    "        dischargeRate=1 / 470.37,\n",
    "        sharedPotentialID=\"Existing salt caverns\",\n",
    "        stateOfChargeMin=0.33,\n",
    "        stateOfChargeMax=1,\n",
    "        capacityMax=data[\"Salt caverns (hydrogen), capacityMax\"],\n",
    "        investPerCapacity=0.00011,\n",
    "        opexPerCapacity=0.00057,\n",
    "        interestRate=0.08,\n",
    "        economicLifetime=30,\n",
    "    )\n",
    ")"
   ]
  },
  {
   "cell_type": "markdown",
   "metadata": {},
   "source": [
    "## 5.3. Methane storage"
   ]
  },
  {
   "cell_type": "markdown",
   "metadata": {},
   "source": [
    "### Methane filled salt caverns"
   ]
  },
  {
   "cell_type": "code",
   "execution_count": 21,
   "metadata": {},
   "outputs": [],
   "source": [
    "esM.add(\n",
    "    fn.Storage(\n",
    "        esM=esM,\n",
    "        name=\"Salt caverns (biogas)\",\n",
    "        commodity=\"biogas\",\n",
    "        hasCapacityVariable=True,\n",
    "        capacityVariableDomain=\"continuous\",\n",
    "        capacityPerPlantUnit=443,\n",
    "        chargeRate=1 / 470.37,\n",
    "        dischargeRate=1 / 470.37,\n",
    "        sharedPotentialID=\"Existing salt caverns\",\n",
    "        stateOfChargeMin=0.33,\n",
    "        stateOfChargeMax=1,\n",
    "        capacityMax=data[\"Salt caverns (methane), capacityMax\"],\n",
    "        investPerCapacity=0.00004,\n",
    "        opexPerCapacity=0.00001,\n",
    "        interestRate=0.08,\n",
    "        economicLifetime=30,\n",
    "    )\n",
    ")"
   ]
  },
  {
   "cell_type": "markdown",
   "metadata": {},
   "source": [
    "## 5.4 Pumped hydro storage"
   ]
  },
  {
   "cell_type": "markdown",
   "metadata": {},
   "source": [
    "### Pumped hydro storage"
   ]
  },
  {
   "cell_type": "code",
   "execution_count": 22,
   "metadata": {},
   "outputs": [],
   "source": [
    "esM.add(\n",
    "    fn.Storage(\n",
    "        esM=esM,\n",
    "        name=\"Pumped hydro storage\",\n",
    "        commodity=\"electricity\",\n",
    "        chargeEfficiency=0.88,\n",
    "        dischargeEfficiency=0.88,\n",
    "        hasCapacityVariable=True,\n",
    "        selfDischarge=1 - (1 - 0.00375) ** (1 / (30 * 24)),\n",
    "        chargeRate=0.16,\n",
    "        dischargeRate=0.12,\n",
    "        capacityFix=data[\"Pumped hydro storage, capacityFix\"],\n",
    "        investPerCapacity=0,\n",
    "        opexPerCapacity=0.000153,\n",
    "    )\n",
    ")"
   ]
  },
  {
   "cell_type": "markdown",
   "metadata": {},
   "source": [
    "# 6. Add commodity transmission components to the energy system model"
   ]
  },
  {
   "cell_type": "markdown",
   "metadata": {},
   "source": [
    "## 6.1. Electricity transmission"
   ]
  },
  {
   "cell_type": "markdown",
   "metadata": {},
   "source": [
    "### AC cables"
   ]
  },
  {
   "cell_type": "markdown",
   "metadata": {},
   "source": [
    "esM.add(fn.LinearOptimalPowerFlow(esM=esM, name='AC cables', commodity='electricity',\n",
    "                                  hasCapacityVariable=True, capacityFix=data['AC cables, capacityFix'],\n",
    "                                  reactances=data['AC cables, reactances']))"
   ]
  },
  {
   "cell_type": "code",
   "execution_count": null,
   "metadata": {},
   "outputs": [],
   "source": [
    "esM.add(\n",
    "    fn.Transmission(\n",
    "        esM=esM,\n",
    "        name=\"AC cables\",\n",
    "        commodity=\"electricity\",\n",
    "        hasCapacityVariable=True,\n",
    "        capacityFix=data[\"AC cables, capacityFix\"],\n",
    "    )\n",
    ")"
   ]
  },
  {
   "cell_type": "markdown",
   "metadata": {},
   "source": [
    "### DC cables"
   ]
  },
  {
   "cell_type": "code",
   "execution_count": 24,
   "metadata": {},
   "outputs": [],
   "source": [
    "esM.add(\n",
    "    fn.Transmission(\n",
    "        esM=esM,\n",
    "        name=\"DC cables\",\n",
    "        commodity=\"electricity\",\n",
    "        losses=data[\"DC cables, losses\"],\n",
    "        distances=data[\"DC cables, distances\"],\n",
    "        hasCapacityVariable=True,\n",
    "        capacityFix=data[\"DC cables, capacityFix\"],\n",
    "    )\n",
    ")"
   ]
  },
  {
   "cell_type": "markdown",
   "metadata": {},
   "source": [
    "## 6.2 Methane transmission"
   ]
  },
  {
   "cell_type": "markdown",
   "metadata": {},
   "source": [
    "### Methane pipeline"
   ]
  },
  {
   "cell_type": "code",
   "execution_count": 25,
   "metadata": {
    "scrolled": true
   },
   "outputs": [],
   "source": [
    "esM.add(\n",
    "    fn.Transmission(\n",
    "        esM=esM,\n",
    "        name=\"Pipelines (biogas)\",\n",
    "        commodity=\"biogas\",\n",
    "        distances=data[\"Pipelines, distances\"],\n",
    "        hasCapacityVariable=True,\n",
    "        hasIsBuiltBinaryVariable=True,\n",
    "        bigM=300,\n",
    "        locationalEligibility=data[\"Pipelines, eligibility\"],\n",
    "        capacityMax=data[\"Pipelines, eligibility\"] * 15,\n",
    "        sharedPotentialID=\"pipelines\",\n",
    "        investPerCapacity=0.000037,\n",
    "        investIfBuilt=0.000314,\n",
    "        interestRate=0.08,\n",
    "        economicLifetime=40,\n",
    "    )\n",
    ")"
   ]
  },
  {
   "cell_type": "markdown",
   "metadata": {},
   "source": [
    "## 6.3 Hydrogen transmission"
   ]
  },
  {
   "cell_type": "markdown",
   "metadata": {},
   "source": [
    "### Hydrogen pipelines"
   ]
  },
  {
   "cell_type": "code",
   "execution_count": 26,
   "metadata": {
    "scrolled": true
   },
   "outputs": [],
   "source": [
    "esM.add(\n",
    "    fn.Transmission(\n",
    "        esM=esM,\n",
    "        name=\"Pipelines (hydrogen)\",\n",
    "        commodity=\"hydrogen\",\n",
    "        distances=data[\"Pipelines, distances\"],\n",
    "        hasCapacityVariable=True,\n",
    "        hasIsBuiltBinaryVariable=True,\n",
    "        bigM=300,\n",
    "        locationalEligibility=data[\"Pipelines, eligibility\"],\n",
    "        capacityMax=data[\"Pipelines, eligibility\"] * 15,\n",
    "        sharedPotentialID=\"pipelines\",\n",
    "        investPerCapacity=0.000177,\n",
    "        investIfBuilt=0.00033,\n",
    "        interestRate=0.08,\n",
    "        economicLifetime=40,\n",
    "    )\n",
    ")"
   ]
  },
  {
   "cell_type": "markdown",
   "metadata": {},
   "source": [
    "# 7. Add commodity sinks to the energy system model"
   ]
  },
  {
   "cell_type": "markdown",
   "metadata": {},
   "source": [
    "## 7.1. Electricity sinks"
   ]
  },
  {
   "cell_type": "markdown",
   "metadata": {},
   "source": [
    "### Electricity demand"
   ]
  },
  {
   "cell_type": "code",
   "execution_count": 27,
   "metadata": {},
   "outputs": [],
   "source": [
    "esM.add(\n",
    "    fn.Sink(\n",
    "        esM=esM,\n",
    "        name=\"Electricity demand\",\n",
    "        commodity=\"electricity\",\n",
    "        hasCapacityVariable=False,\n",
    "        operationRateFix=data[\"Electricity demand, operationRateFix\"],\n",
    "    )\n",
    ")"
   ]
  },
  {
   "cell_type": "markdown",
   "metadata": {},
   "source": [
    "## 7.2. Hydrogen sinks"
   ]
  },
  {
   "cell_type": "markdown",
   "metadata": {},
   "source": [
    "### Fuel cell electric vehicle (FCEV) demand"
   ]
  },
  {
   "cell_type": "code",
   "execution_count": 28,
   "metadata": {},
   "outputs": [],
   "source": [
    "FCEV_penetration = 0.5\n",
    "esM.add(\n",
    "    fn.Sink(\n",
    "        esM=esM,\n",
    "        name=\"Hydrogen demand\",\n",
    "        commodity=\"hydrogen\",\n",
    "        hasCapacityVariable=False,\n",
    "        operationRateFix=data[\"Hydrogen demand, operationRateFix\"] * FCEV_penetration,\n",
    "    )\n",
    ")"
   ]
  },
  {
   "cell_type": "markdown",
   "metadata": {},
   "source": [
    "## 7.3. CO2 sinks"
   ]
  },
  {
   "cell_type": "markdown",
   "metadata": {},
   "source": [
    "### CO2 exiting the system's boundary"
   ]
  },
  {
   "cell_type": "code",
   "execution_count": 29,
   "metadata": {},
   "outputs": [],
   "source": [
    "esM.add(\n",
    "    fn.Sink(\n",
    "        esM=esM,\n",
    "        name=\"CO2 to enviroment\",\n",
    "        commodity=\"CO2\",\n",
    "        hasCapacityVariable=False,\n",
    "        commodityLimitID=\"CO2 limit\",\n",
    "        yearlyLimit=366 * (1 - CO2_reductionTarget),\n",
    "    )\n",
    ")"
   ]
  },
  {
   "cell_type": "markdown",
   "metadata": {},
   "source": [
    "All components are now added to the model and the model can be optimized. If the computational complexity of the optimization should be reduced, the time series data of the specified components can be clustered before the optimization and the parameter timeSeriesAggregation is set to True in the optimize call."
   ]
  },
  {
   "cell_type": "markdown",
   "metadata": {},
   "source": [
    "# 8 Temporal Aggregation"
   ]
  },
  {
   "cell_type": "code",
   "execution_count": null,
   "metadata": {
    "tags": [
     "nbval-ignore-output"
    ]
   },
   "outputs": [],
   "source": [
    "esM.aggregateTemporally(numberOfTypicalPeriods=7)"
   ]
  },
  {
   "cell_type": "markdown",
   "metadata": {},
   "source": [
    "### Optimization"
   ]
  },
  {
   "cell_type": "code",
   "execution_count": null,
   "metadata": {
    "scrolled": true,
    "tags": [
     "nbval-skip"
    ]
   },
   "outputs": [],
   "source": [
    "# The `optimizationSpecs` only work with the Gurobi solver. If you are using another solver you need to choose\n",
    "# specs spcecific to this solver or no specs.\n",
    "esM.optimize(\n",
    "    timeSeriesAggregation=True,\n",
    "    optimizationSpecs=\"OptimalityTol=1e-3 method=2 cuts=0 MIPGap=5e-3\",\n",
    ")"
   ]
  },
  {
   "cell_type": "markdown",
   "metadata": {},
   "source": [
    "# MGA Optimization and Results"
   ]
  },
  {
   "cell_type": "markdown",
   "metadata": {},
   "source": [
    "Output results of the optimization are stored in OutputData folder in a single Excel file with multiple sheets. Sheet 0 is the output of the optimal solution and Sheet 1 onwards include the results of MGA solutions (i.e. Sheet 1 -> MGA solution 1, Sheet 2 -> MGA solution 2)"
   ]
  },
  {
   "cell_type": "code",
   "execution_count": null,
   "metadata": {},
   "outputs": [],
   "source": [
    "esM.mga_optimize(\n",
    "    timeSeriesAggregation=True,\n",
    "    optimizationSpecs=\"OptimalityTol=1e-3 method=2 cuts=0 MIPGap=5e-3\",\n",
    "    slack=0.1, #Enter slack value as a decimal between 0 and 1\n",
    "    iterations=5, #Enter number of iterations\n",
    "    random_seed = True # If random seed is used, the results will be the same for each time this function is run for this optimization problem\n",
    ")"
   ]
  },
  {
   "cell_type": "markdown",
   "metadata": {},
   "source": [
    "# ----------------------------------------------------------"
   ]
  }
 ],
 "metadata": {
  "anaconda-cloud": {},
  "interpreter": {
   "hash": "8e874521e84aaa9a25c57584b09ac89843ebb84ca57251a2b3336b66b8670439"
  },
  "jupytext": {
   "encoding": "# -*- coding: utf-8 -*-",
   "formats": "ipynb,py:percent",
   "notebook_metadata_filter": "-all"
  },
  "kernelspec": {
   "display_name": "Python 3 (ipykernel)",
   "language": "python",
   "name": "python3"
  },
  "language_info": {
   "codemirror_mode": {
    "name": "ipython",
    "version": 3
   },
   "file_extension": ".py",
   "mimetype": "text/x-python",
   "name": "python",
   "nbconvert_exporter": "python",
   "pygments_lexer": "ipython3",
   "version": "3.12.5"
  }
 },
 "nbformat": 4,
 "nbformat_minor": 4
}
